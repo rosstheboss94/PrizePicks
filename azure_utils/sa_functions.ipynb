{
  "nbformat": 4,
  "nbformat_minor": 2,
  "cells": [
    {
      "cell_type": "markdown",
      "metadata": {
        "nteract": {
          "transient": {
            "deleting": false
          }
        }
      },
      "source": [
        "### **Azure Data Lake Gen 2 Functions**"
      ]
    },
    {
      "cell_type": "markdown",
      "metadata": {
        "nteract": {
          "transient": {
            "deleting": false
          }
        }
      },
      "source": [
        "### Configuration"
      ]
    },
    {
      "cell_type": "code",
      "execution_count": 1,
      "outputs": [],
      "metadata": {
        "jupyter": {
          "source_hidden": false,
          "outputs_hidden": false
        },
        "nteract": {
          "transient": {
            "deleting": false
          }
        }
      },
      "source": [
        "from azure.storage.filedatalake import DataLakeServiceClient"
      ]
    },
    {
      "cell_type": "markdown",
      "metadata": {
        "nteract": {
          "transient": {
            "deleting": false
          }
        }
      },
      "source": [
        "### Initialize Storage Account using SAS"
      ]
    },
    {
      "cell_type": "code",
      "execution_count": 2,
      "outputs": [],
      "metadata": {
        "jupyter": {
          "source_hidden": false,
          "outputs_hidden": false
        },
        "nteract": {
          "transient": {
            "deleting": false
          }
        }
      },
      "source": [
        "def initialize_storage_account_sas(storage_account_name, sas_token: str):\r\n",
        "    \r\n",
        "    try:  \r\n",
        "        global service_client\r\n",
        "\r\n",
        "        # The SAS token string can be passed in as credential param or appended to the account URL\r\n",
        "        service_client = DataLakeServiceClient(account_url=\"{}://{}.dfs.core.windows.net\".format(\r\n",
        "            \"https\", storage_account_name), credential=sas_token)\r\n",
        "    \r\n",
        "    except Exception as e:\r\n",
        "        print(e)"
      ]
    },
    {
      "cell_type": "markdown",
      "metadata": {
        "nteract": {
          "transient": {
            "deleting": false
          }
        }
      },
      "source": [
        "### Initialize Storage Account With Access Key"
      ]
    },
    {
      "cell_type": "code",
      "execution_count": 3,
      "outputs": [],
      "metadata": {
        "jupyter": {
          "source_hidden": false,
          "outputs_hidden": false
        },
        "nteract": {
          "transient": {
            "deleting": false
          }
        }
      },
      "source": [
        "def initialize_storage_account(storage_account_name, storage_account_key):\r\n",
        "    \r\n",
        "    try:  \r\n",
        "        global service_client\r\n",
        "\r\n",
        "        service_client = DataLakeServiceClient(account_url=\"{}://{}.dfs.core.windows.net\".format(\r\n",
        "            \"https\", storage_account_name), credential=storage_account_key)\r\n",
        "    \r\n",
        "    except Exception as e:\r\n",
        "        print(e)\r\n",
        ""
      ]
    },
    {
      "cell_type": "markdown",
      "metadata": {
        "nteract": {
          "transient": {
            "deleting": false
          }
        }
      },
      "source": [
        "### Create Directory"
      ]
    },
    {
      "cell_type": "code",
      "execution_count": 4,
      "outputs": [],
      "metadata": {
        "jupyter": {
          "source_hidden": false,
          "outputs_hidden": false
        },
        "nteract": {
          "transient": {
            "deleting": false
          }
        }
      },
      "source": [
        "def create_directory(container, directory_name):\r\n",
        "    try:\r\n",
        "        file_system_client = service_client.get_file_system_client(file_system = container)\r\n",
        "        file_system_client.create_directory(directory_name)\r\n",
        "    \r\n",
        "    except Exception as e:\r\n",
        "     print(e)"
      ]
    },
    {
      "cell_type": "markdown",
      "metadata": {
        "nteract": {
          "transient": {
            "deleting": false
          }
        }
      },
      "source": [
        "### Upload Single Line JSON file"
      ]
    },
    {
      "cell_type": "code",
      "execution_count": 5,
      "outputs": [],
      "metadata": {
        "jupyter": {
          "source_hidden": false,
          "outputs_hidden": false
        },
        "nteract": {
          "transient": {
            "deleting": false
          }
        }
      },
      "source": [
        "def upload_single_line_json_file_to_directory(container, directory, file_name, json_string_arr):\r\n",
        "    file_contents = ''\r\n",
        "\r\n",
        "    try:\r\n",
        "\r\n",
        "        file_system_client = service_client.get_file_system_client(file_system = container)\r\n",
        "\r\n",
        "        directory_client = file_system_client.get_directory_client(directory)\r\n",
        "        \r\n",
        "        file_client = directory_client.create_file(file_name)\r\n",
        "\r\n",
        "        \r\n",
        "        for string in json_string_arr:\r\n",
        "            file_contents = file_contents + string + '\\n'\r\n",
        "\r\n",
        "        file_client.append_data(data=file_contents, offset=0, length=len(file_contents))\r\n",
        "\r\n",
        "        file_client.flush_data(len(file_contents))\r\n",
        "\r\n",
        "    except Exception as e:\r\n",
        "      print(e)"
      ]
    },
    {
      "cell_type": "code",
      "execution_count": null,
      "outputs": [],
      "metadata": {
        "jupyter": {
          "source_hidden": false,
          "outputs_hidden": false
        },
        "nteract": {
          "transient": {
            "deleting": false
          }
        }
      },
      "source": [
        ""
      ]
    }
  ],
  "metadata": {
    "save_output": true,
    "kernelspec": {
      "name": "synapse_pyspark",
      "display_name": "Synapse PySpark"
    },
    "language_info": {
      "name": "python"
    },
    "synapse_widget": {
      "version": "0.1"
    }
  }
}