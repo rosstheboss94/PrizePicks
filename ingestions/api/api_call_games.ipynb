{
  "nbformat": 4,
  "nbformat_minor": 2,
  "cells": [
    {
      "cell_type": "markdown",
      "metadata": {
        "nteract": {
          "transient": {
            "deleting": false
          }
        }
      },
      "source": [
        "### **Ingest API Call for Game Data**\r\n",
        "Converts API response to a JSON file and save the file to the bronze container"
      ]
    },
    {
      "cell_type": "markdown",
      "metadata": {
        "nteract": {
          "transient": {
            "deleting": false
          }
        }
      },
      "source": [
        "### Configuration"
      ]
    },
    {
      "cell_type": "code",
      "execution_count": 30,
      "outputs": [],
      "metadata": {
        "jupyter": {
          "source_hidden": false,
          "outputs_hidden": false
        },
        "nteract": {
          "transient": {
            "deleting": false
          }
        },
        "tags": []
      },
      "source": [
        "%run /utils/ball_dont_lie_api"
      ]
    },
    {
      "cell_type": "code",
      "execution_count": 31,
      "outputs": [],
      "metadata": {
        "jupyter": {
          "source_hidden": false,
          "outputs_hidden": false
        },
        "nteract": {
          "transient": {
            "deleting": false
          }
        }
      },
      "source": [
        "%run /azure_utils/sa_functions"
      ]
    },
    {
      "cell_type": "markdown",
      "metadata": {
        "nteract": {
          "transient": {
            "deleting": false
          }
        }
      },
      "source": [
        "### Parameters"
      ]
    },
    {
      "cell_type": "code",
      "execution_count": 32,
      "outputs": [],
      "metadata": {
        "jupyter": {
          "source_hidden": false,
          "outputs_hidden": false
        },
        "nteract": {
          "transient": {
            "deleting": false
          }
        },
        "tags": [
          "parameters"
        ]
      },
      "source": [
        "season = 2022\r\n",
        "team_id = 1"
      ]
    },
    {
      "cell_type": "markdown",
      "metadata": {
        "nteract": {
          "transient": {
            "deleting": false
          }
        }
      },
      "source": [
        "### Call API to Retreive Game Data"
      ]
    },
    {
      "cell_type": "code",
      "execution_count": 33,
      "outputs": [],
      "metadata": {
        "jupyter": {
          "source_hidden": false,
          "outputs_hidden": false
        },
        "nteract": {
          "transient": {
            "deleting": false
          }
        }
      },
      "source": [
        "current_page = 1\r\n",
        "games_dict = get_games(season, team_id, current_page)\r\n",
        "total_pages = games_dict['meta']['total_pages']\r\n",
        "games_arr = [json.dumps(game) for game in games_dict['data']]\r\n",
        ""
      ]
    },
    {
      "cell_type": "markdown",
      "metadata": {
        "nteract": {
          "transient": {
            "deleting": false
          }
        }
      },
      "source": [
        "### Metadata For Interacting With ADLS"
      ]
    },
    {
      "cell_type": "code",
      "execution_count": 34,
      "outputs": [],
      "metadata": {
        "jupyter": {
          "source_hidden": false,
          "outputs_hidden": false
        },
        "nteract": {
          "transient": {
            "deleting": false
          }
        }
      },
      "source": [
        "storage_account_name = 'prizepicksnba'\r\n",
        "sas_token = mssparkutils.credentials.getSecret('prizepickskeys', 'sa-sas-token')"
      ]
    },
    {
      "cell_type": "markdown",
      "metadata": {
        "nteract": {
          "transient": {
            "deleting": false
          }
        }
      },
      "source": [
        "### Write File to ADLS"
      ]
    },
    {
      "cell_type": "code",
      "execution_count": 35,
      "outputs": [],
      "metadata": {
        "jupyter": {
          "source_hidden": false,
          "outputs_hidden": false
        },
        "nteract": {
          "transient": {
            "deleting": false
          }
        }
      },
      "source": [
        "import time\r\n",
        "\r\n",
        "initialize_storage_account_sas(storage_account_name, sas_token)\r\n",
        "create_directory('bronze', f'games/season={season}/team_id={team_id}')\r\n",
        "upload_single_line_json_file_to_directory('bronze', f'games/season={season}/team_id={team_id}', f'game_file{current_page}.json', games_arr)\r\n",
        "\r\n",
        "current_page += 1\r\n",
        "\r\n",
        "while current_page <= total_pages:\r\n",
        "    games_dict = get_games(season, team_id, current_page)\r\n",
        "  \r\n",
        "    games_arr = [json.dumps(game) for game in games_dict['data']]\r\n",
        "\r\n",
        "    initialize_storage_account_sas(storage_account_name, sas_token)\r\n",
        "    create_directory('bronze', f'games/season={season}/team_id={team_id}')\r\n",
        "    upload_single_line_json_file_to_directory('bronze', f'games/season={season}/team_id={team_id}', f'game_file{current_page}.json', games_arr)\r\n",
        "\r\n",
        "    current_page += 1\r\n",
        "\r\n",
        "    # Delay to avoid rate limit of API\r\n",
        "    time.sleep(1)"
      ]
    }
  ],
  "metadata": {
    "save_output": true,
    "kernelspec": {
      "name": "synapse_pyspark",
      "display_name": "Synapse PySpark"
    },
    "language_info": {
      "name": "python"
    },
    "synapse_widget": {
      "version": "0.1"
    }
  }
}