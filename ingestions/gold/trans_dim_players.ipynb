{
  "nbformat": 4,
  "nbformat_minor": 2,
  "cells": [
    {
      "cell_type": "markdown",
      "metadata": {
        "nteract": {
          "transient": {
            "deleting": false
          }
        }
      },
      "source": [
        "### **Transform Team Dimension**"
      ]
    },
    {
      "cell_type": "markdown",
      "metadata": {
        "nteract": {
          "transient": {
            "deleting": false
          }
        }
      },
      "source": [
        "### Configuration"
      ]
    },
    {
      "cell_type": "code",
      "execution_count": 1,
      "outputs": [],
      "metadata": {
        "jupyter": {
          "source_hidden": false,
          "outputs_hidden": false
        },
        "nteract": {
          "transient": {
            "deleting": false
          }
        }
      },
      "source": [
        "%run /utils/general_functions"
      ]
    },
    {
      "cell_type": "code",
      "execution_count": 2,
      "outputs": [],
      "metadata": {
        "jupyter": {
          "source_hidden": false,
          "outputs_hidden": false
        },
        "nteract": {
          "transient": {
            "deleting": false
          }
        }
      },
      "source": [
        "create_mounts()"
      ]
    },
    {
      "cell_type": "markdown",
      "metadata": {
        "nteract": {
          "transient": {
            "deleting": false
          }
        }
      },
      "source": [
        "### Load Data"
      ]
    },
    {
      "cell_type": "code",
      "execution_count": 3,
      "outputs": [],
      "metadata": {
        "jupyter": {
          "source_hidden": false,
          "outputs_hidden": false
        },
        "nteract": {
          "transient": {
            "deleting": false
          }
        },
        "collapsed": false
      },
      "source": [
        "job_id = mssparkutils.env.getJobId()\r\n",
        "\r\n",
        "player_df = spark.read.format('delta').load(f'synfs:/{job_id}/mnt/silver/dim_player')"
      ]
    },
    {
      "cell_type": "markdown",
      "metadata": {
        "nteract": {
          "transient": {
            "deleting": false
          }
        }
      },
      "source": [
        "### Transformation"
      ]
    },
    {
      "cell_type": "code",
      "execution_count": null,
      "outputs": [],
      "metadata": {
        "jupyter": {
          "source_hidden": false,
          "outputs_hidden": false
        },
        "nteract": {
          "transient": {
            "deleting": false
          }
        }
      },
      "source": [
        "from pyspark.sql.functions import when, col\r\n",
        "players_final_df = player_df \\\r\n",
        "    .withColumn('first_name', when(col('first_name').isNull(), 'no_name').otherwise(col('first_name'))) \\\r\n",
        "    .withColumn('last_name', when(col('last_name').isNull(), 'no_name').otherwise(col('last_name'))) \\\r\n",
        "    .withColumn('position', when(col('position').isNull(), 'N/a').otherwise(col('position'))) \\\r\n",
        "    .withColumn('height_feet', when(col('height_feet').isNull(), 0).otherwise(col('height_feet'))) \\\r\n",
        "    .withColumn('height_inches', when(col('height_inches').isNull(), 0).otherwise(col('height_inches'))) \\\r\n",
        "    .withColumn('weight_pounds', when(col('weight_pounds').isNull(), 0).otherwise(col('weight_pounds')))"
      ]
    },
    {
      "cell_type": "markdown",
      "metadata": {
        "nteract": {
          "transient": {
            "deleting": false
          }
        }
      },
      "source": [
        "### Merge Data"
      ]
    },
    {
      "cell_type": "code",
      "execution_count": 4,
      "outputs": [],
      "metadata": {
        "jupyter": {
          "source_hidden": false,
          "outputs_hidden": false
        },
        "nteract": {
          "transient": {
            "deleting": false
          }
        }
      },
      "source": [
        "container = 'gold'\r\n",
        "database = 'prize_picks_gold'\r\n",
        "table = 'dim_player'\r\n",
        "file_format = 'delta'\r\n",
        "merge_condition = 'tgt.player_key = src.player_key'\r\n",
        "\r\n",
        "merge_data(players_final_df, container, database, table, file_format, merge_condition=merge_condition )"
      ]
    },
    {
      "cell_type": "code",
      "execution_count": null,
      "outputs": [],
      "metadata": {
        "jupyter": {
          "source_hidden": false,
          "outputs_hidden": false
        },
        "nteract": {
          "transient": {
            "deleting": false
          }
        },
        "microsoft": {
          "language": "sparksql"
        }
      },
      "source": [
        "%%sql\r\n",
        "DROP TABLE IF EXISTS prize_picks_silver.dim_player;"
      ]
    }
  ],
  "metadata": {
    "save_output": true,
    "kernelspec": {
      "name": "synapse_pyspark",
      "display_name": "Synapse PySpark"
    },
    "language_info": {
      "name": "python"
    }
  }
}