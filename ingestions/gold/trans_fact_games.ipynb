{
  "nbformat": 4,
  "nbformat_minor": 2,
  "metadata": {
    "kernelspec": {
      "name": "synapse_pyspark",
      "display_name": "Synapse PySpark"
    },
    "language_info": {
      "name": "python"
    },
    "save_output": true,
    "synapse_widget": {
      "version": "0.1",
      "state": {}
    }
  },
  "cells": [
    {
      "cell_type": "markdown",
      "metadata": {
        "nteract": {
          "transient": {
            "deleting": false
          }
        }
      },
      "source": [
        "### **Transform Game Facts**"
      ]
    },
    {
      "cell_type": "markdown",
      "metadata": {
        "nteract": {
          "transient": {
            "deleting": false
          }
        }
      },
      "source": [
        "### Parameters"
      ]
    },
    {
      "cell_type": "code",
      "execution_count": 1,
      "outputs": [],
      "metadata": {
        "jupyter": {
          "source_hidden": false,
          "outputs_hidden": false
        },
        "nteract": {
          "transient": {
            "deleting": false
          }
        },
        "tags": [
          "parameters"
        ]
      },
      "source": [
        "season = 2022"
      ]
    },
    {
      "cell_type": "markdown",
      "metadata": {
        "nteract": {
          "transient": {
            "deleting": false
          }
        }
      },
      "source": [
        "### Configuration"
      ]
    },
    {
      "cell_type": "code",
      "execution_count": 66,
      "outputs": [],
      "metadata": {
        "jupyter": {
          "source_hidden": false,
          "outputs_hidden": false
        },
        "nteract": {
          "transient": {
            "deleting": false
          }
        }
      },
      "source": [
        "%run /utils/general_functions"
      ]
    },
    {
      "cell_type": "code",
      "execution_count": 67,
      "outputs": [],
      "metadata": {
        "jupyter": {
          "source_hidden": false,
          "outputs_hidden": false
        },
        "nteract": {
          "transient": {
            "deleting": false
          }
        }
      },
      "source": [
        "create_mounts()"
      ]
    },
    {
      "cell_type": "markdown",
      "metadata": {
        "nteract": {
          "transient": {
            "deleting": false
          }
        }
      },
      "source": [
        "### Load Data"
      ]
    },
    {
      "cell_type": "code",
      "execution_count": 68,
      "outputs": [],
      "metadata": {
        "jupyter": {
          "source_hidden": false,
          "outputs_hidden": false
        },
        "nteract": {
          "transient": {
            "deleting": false
          }
        },
        "collapsed": false
      },
      "source": [
        "job_id = mssparkutils.env.getJobId()\r\n",
        "\r\n",
        "game_df = spark.read.format('delta').load(f'synfs:/{job_id}/mnt/silver/fact_games/season={season}')\r\n",
        "team_df = spark.read.format('delta').load(f'synfs:/{job_id}/mnt/silver/dim_team')"
      ]
    },
    {
      "cell_type": "markdown",
      "metadata": {
        "nteract": {
          "transient": {
            "deleting": false
          }
        }
      },
      "source": [
        "### Transformations"
      ]
    },
    {
      "cell_type": "code",
      "execution_count": 69,
      "outputs": [],
      "metadata": {
        "jupyter": {
          "source_hidden": false,
          "outputs_hidden": false
        },
        "nteract": {
          "transient": {
            "deleting": false
          }
        }
      },
      "source": [
        "from pyspark.sql.functions import col\r\n",
        "\r\n",
        "game_joined_df = game_df.alias('game').join(team_df.alias('team1'), (col('game.home_team_id') == col('team1.team_id')) & (col('team1.is_active') == True)) \\\r\n",
        "    .join(team_df.alias('team2'), (col('game.visitor_team_id') == col('team2.team_id')) & (col('team2.is_active') == True))"
      ]
    },
    {
      "cell_type": "code",
      "execution_count": 70,
      "outputs": [],
      "metadata": {
        "jupyter": {
          "source_hidden": false,
          "outputs_hidden": false
        },
        "nteract": {
          "transient": {
            "deleting": false
          }
        }
      },
      "source": [
        "# Replaces dim ids with their surrogate keys\r\n",
        "game_final_df = game_joined_df.select('game_id', col('team1.team_key').alias('home_team_key'), col('team2.team_key').alias('visitor_team_key'),\r\n",
        "     'date', 'home_team_score', 'visitor_team_score', 'season', 'period', 'postseason' ) \\\r\n",
        "     .distinct()"
      ]
    },
    {
      "cell_type": "code",
      "execution_count": 71,
      "outputs": [],
      "metadata": {
        "jupyter": {
          "source_hidden": false,
          "outputs_hidden": false
        },
        "nteract": {
          "transient": {
            "deleting": false
          }
        }
      },
      "source": [
        "from pyspark.sql.functions import when, lit\r\n",
        "\r\n",
        "# Handle NULL values\r\n",
        "game_final_df = game_final_df \\\r\n",
        "    .withColumn('date', when(col('date').isNull(), lit('1900-01-01 00:00:00.000')).otherwise(col('date'))) \\\r\n",
        "    .withColumn('home_team_score', when(col('home_team_score').isNull(), 0).otherwise(col('home_team_score'))) \\\r\n",
        "    .withColumn('visitor_team_score', when(col('visitor_team_score').isNull(), 0).otherwise(col('visitor_team_score'))) \\\r\n",
        "    .withColumn('season', when(col('season').isNull(), 0).otherwise(col('season'))) \\\r\n",
        "    .withColumn('period', when(col('period').isNull(), 0).otherwise(col('period'))) \\\r\n",
        "    .withColumn('postseason', when(col('postseason').isNull(), lit(False)).otherwise(col('postseason'))) "
      ]
    },
    {
      "cell_type": "markdown",
      "metadata": {
        "nteract": {
          "transient": {
            "deleting": false
          }
        }
      },
      "source": [
        "### Merge Data"
      ]
    },
    {
      "cell_type": "code",
      "execution_count": 72,
      "outputs": [],
      "metadata": {
        "jupyter": {
          "source_hidden": false,
          "outputs_hidden": false
        },
        "nteract": {
          "transient": {
            "deleting": false
          }
        }
      },
      "source": [
        "container = 'gold'\r\n",
        "database = 'prize_picks_gold'\r\n",
        "table = 'fact_games'\r\n",
        "file_format = 'delta'\r\n",
        "partition_col = 'season'\r\n",
        "merge_condition = 'tgt.game_id = src.game_id'\r\n",
        "\r\n",
        "merge_data(game_final_df, container, database, table, file_format, partition_col, merge_condition )"
      ]
    },
    {
      "cell_type": "code",
      "execution_count": null,
      "outputs": [],
      "metadata": {
        "jupyter": {
          "source_hidden": false,
          "outputs_hidden": false
        },
        "nteract": {
          "transient": {
            "deleting": false
          }
        },
        "microsoft": {
          "language": "sparksql"
        }
      },
      "source": [
        "%%sql\r\n",
        "DROP TABLE IF EXISTS prize_picks_silver.fact_games;"
      ]
    },
    {
      "cell_type": "code",
      "execution_count": 73,
      "outputs": [],
      "metadata": {
        "jupyter": {
          "source_hidden": false,
          "outputs_hidden": false
        },
        "nteract": {
          "transient": {
            "deleting": false
          }
        }
      },
      "source": [
        "# spark.sql(f'SELECT COUNT(*) FROM prize_picks_gold.fact_games').show()"
      ]
    }
  ]
}