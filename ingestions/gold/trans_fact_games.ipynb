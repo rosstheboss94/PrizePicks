{
  "cells": [
    {
      "cell_type": "markdown",
      "source": [
        "### **Transform Game Dimension**"
      ],
      "metadata": {
        "nteract": {
          "transient": {
            "deleting": false
          }
        }
      }
    },
    {
      "cell_type": "markdown",
      "source": [
        "### Parameters"
      ],
      "metadata": {
        "nteract": {
          "transient": {
            "deleting": false
          }
        }
      }
    },
    {
      "cell_type": "code",
      "source": [
        "season = 2022"
      ],
      "outputs": [],
      "execution_count": 1,
      "metadata": {
        "jupyter": {
          "source_hidden": false,
          "outputs_hidden": false
        },
        "nteract": {
          "transient": {
            "deleting": false
          }
        },
        "tags": [
          "parameters"
        ]
      }
    },
    {
      "cell_type": "markdown",
      "source": [
        "### Configuration"
      ],
      "metadata": {
        "nteract": {
          "transient": {
            "deleting": false
          }
        }
      }
    },
    {
      "cell_type": "code",
      "source": [
        "%run /utils/general_functions"
      ],
      "outputs": [],
      "execution_count": 66,
      "metadata": {
        "jupyter": {
          "source_hidden": false,
          "outputs_hidden": false
        },
        "nteract": {
          "transient": {
            "deleting": false
          }
        }
      }
    },
    {
      "cell_type": "code",
      "source": [
        "create_mounts()"
      ],
      "outputs": [],
      "execution_count": 67,
      "metadata": {
        "jupyter": {
          "source_hidden": false,
          "outputs_hidden": false
        },
        "nteract": {
          "transient": {
            "deleting": false
          }
        }
      }
    },
    {
      "cell_type": "markdown",
      "source": [
        "### Load Data"
      ],
      "metadata": {
        "nteract": {
          "transient": {
            "deleting": false
          }
        }
      }
    },
    {
      "cell_type": "code",
      "source": [
        "job_id = mssparkutils.env.getJobId()\r\n",
        "\r\n",
        "game_df = spark.read.format('delta').load(f'synfs:/{job_id}/mnt/silver/dim_games/season={season}')\r\n",
        "team_df = spark.read.format('delta').load(f'synfs:/{job_id}/mnt/silver/dim_team')"
      ],
      "outputs": [],
      "execution_count": 68,
      "metadata": {
        "jupyter": {
          "source_hidden": false,
          "outputs_hidden": false
        },
        "nteract": {
          "transient": {
            "deleting": false
          }
        },
        "collapsed": false
      }
    },
    {
      "cell_type": "markdown",
      "source": [
        "### Transformations"
      ],
      "metadata": {
        "nteract": {
          "transient": {
            "deleting": false
          }
        }
      }
    },
    {
      "cell_type": "code",
      "source": [
        "from pyspark.sql.functions import col\r\n",
        "\r\n",
        "game_joined_df = game_df.alias('game').join(team_df.alias('team1'), (col('game.home_team_id') == col('team1.team_id')) & (col('team1.is_active') == True)) \\\r\n",
        "    .join(team_df.alias('team2'), (col('game.visitor_team_id') == col('team2.team_id')) & (col('team2.is_active') == True))"
      ],
      "outputs": [],
      "execution_count": 69,
      "metadata": {
        "jupyter": {
          "source_hidden": false,
          "outputs_hidden": false
        },
        "nteract": {
          "transient": {
            "deleting": false
          }
        }
      }
    },
    {
      "cell_type": "code",
      "source": [
        "# Replaces dim ids with their surrogate keys\r\n",
        "game_final_df = game_joined_df.select('game_id', col('team1.team_key').alias('home_team_key'), col('team2.team_key').alias('visitor_team_key'),\r\n",
        "     'date', 'home_team_score', 'visitor_team_score', 'season', 'period', 'postseason' ) \\\r\n",
        "     .distinct()"
      ],
      "outputs": [],
      "execution_count": 70,
      "metadata": {
        "jupyter": {
          "source_hidden": false,
          "outputs_hidden": false
        },
        "nteract": {
          "transient": {
            "deleting": false
          }
        }
      }
    },
    {
      "cell_type": "code",
      "source": [
        "from pyspark.sql.functions import when, lit\r\n",
        "\r\n",
        "# Handle NULL values\r\n",
        "game_final_df = game_final_df \\\r\n",
        "    .withColumn('date', when(col('date').isNull(), lit('1900-01-01 00:00:00.000')).otherwise(col('date'))) \\\r\n",
        "    .withColumn('home_team_score', when(col('home_team_score').isNull(), 0).otherwise(col('home_team_score'))) \\\r\n",
        "    .withColumn('visitor_team_score', when(col('visitor_team_score').isNull(), 0).otherwise(col('visitor_team_score'))) \\\r\n",
        "    .withColumn('season', when(col('season').isNull(), 0).otherwise(col('season'))) \\\r\n",
        "    .withColumn('period', when(col('period').isNull(), 0).otherwise(col('period'))) \\\r\n",
        "    .withColumn('postseason', when(col('postseason').isNull(), lit(False)).otherwise(col('postseason'))) "
      ],
      "outputs": [],
      "execution_count": 71,
      "metadata": {
        "jupyter": {
          "source_hidden": false,
          "outputs_hidden": false
        },
        "nteract": {
          "transient": {
            "deleting": false
          }
        }
      }
    },
    {
      "cell_type": "markdown",
      "source": [
        "### Merge Data"
      ],
      "metadata": {
        "nteract": {
          "transient": {
            "deleting": false
          }
        }
      }
    },
    {
      "cell_type": "code",
      "source": [
        "container = 'gold'\r\n",
        "database = 'prize_picks_gold'\r\n",
        "table = 'dim_games'\r\n",
        "file_format = 'delta'\r\n",
        "partition_col = 'season'\r\n",
        "merge_condition = 'tgt.game_id = src.game_id'\r\n",
        "\r\n",
        "merge_data(game_final_df, container, database, table, file_format, partition_col, merge_condition )"
      ],
      "outputs": [],
      "execution_count": 72,
      "metadata": {
        "jupyter": {
          "source_hidden": false,
          "outputs_hidden": false
        },
        "nteract": {
          "transient": {
            "deleting": false
          }
        }
      }
    },
    {
      "cell_type": "code",
      "source": [
        "%%sql\r\n",
        "DROP TABLE IF EXISTS prize_picks_silver.dim_games;"
      ],
      "outputs": [],
      "execution_count": null,
      "metadata": {
        "jupyter": {
          "source_hidden": false,
          "outputs_hidden": false
        },
        "nteract": {
          "transient": {
            "deleting": false
          }
        },
        "microsoft": {
          "language": "sparksql"
        }
      }
    }
  ],
  "metadata": {
    "kernelspec": {
      "name": "synapse_pyspark",
      "display_name": "Synapse PySpark"
    },
    "language_info": {
      "name": "python"
    },
    "save_output": true,
    "synapse_widget": {
      "version": "0.1",
      "state": {}
    }
  },
  "nbformat": 4,
  "nbformat_minor": 2
}