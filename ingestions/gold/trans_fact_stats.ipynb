{
  "nbformat": 4,
  "nbformat_minor": 2,
  "metadata": {
    "kernelspec": {
      "name": "synapse_pyspark",
      "display_name": "Synapse PySpark"
    },
    "language_info": {
      "name": "python"
    },
    "save_output": true,
    "synapse_widget": {
      "version": "0.1",
      "state": {}
    }
  },
  "cells": [
    {
      "cell_type": "markdown",
      "metadata": {
        "nteract": {
          "transient": {
            "deleting": false
          }
        }
      },
      "source": [
        "### **Transform Stat Facts**"
      ]
    },
    {
      "cell_type": "markdown",
      "metadata": {
        "nteract": {
          "transient": {
            "deleting": false
          }
        }
      },
      "source": [
        "### Parameters"
      ]
    },
    {
      "cell_type": "code",
      "execution_count": 79,
      "outputs": [],
      "metadata": {
        "jupyter": {
          "source_hidden": false,
          "outputs_hidden": false
        },
        "nteract": {
          "transient": {
            "deleting": false
          }
        },
        "tags": [
          "parameters"
        ]
      },
      "source": [
        "season = 2022"
      ]
    },
    {
      "cell_type": "markdown",
      "metadata": {
        "nteract": {
          "transient": {
            "deleting": false
          }
        }
      },
      "source": [
        "### Configuration"
      ]
    },
    {
      "cell_type": "code",
      "execution_count": 80,
      "outputs": [],
      "metadata": {
        "jupyter": {
          "source_hidden": false,
          "outputs_hidden": false
        },
        "nteract": {
          "transient": {
            "deleting": false
          }
        }
      },
      "source": [
        "%run /utils/general_functions"
      ]
    },
    {
      "cell_type": "code",
      "execution_count": 81,
      "outputs": [],
      "metadata": {
        "jupyter": {
          "source_hidden": false,
          "outputs_hidden": false
        },
        "nteract": {
          "transient": {
            "deleting": false
          }
        }
      },
      "source": [
        "create_mounts()"
      ]
    },
    {
      "cell_type": "markdown",
      "metadata": {
        "nteract": {
          "transient": {
            "deleting": false
          }
        }
      },
      "source": [
        "### Load Data"
      ]
    },
    {
      "cell_type": "code",
      "execution_count": 82,
      "outputs": [],
      "metadata": {
        "jupyter": {
          "source_hidden": false,
          "outputs_hidden": false
        },
        "nteract": {
          "transient": {
            "deleting": false
          }
        },
        "collapsed": false
      },
      "source": [
        "job_id = mssparkutils.env.getJobId()\r\n",
        "\r\n",
        "stat_df = spark.read.format('delta').load(f'synfs:/{job_id}/mnt/silver/fact_stats/season={season}')\r\n",
        "player_df = spark.read.format('delta').load(f'synfs:/{job_id}/mnt/silver/dim_player')\r\n",
        "team_df = spark.read.format('delta').load(f'synfs:/{job_id}/mnt/silver/dim_team')"
      ]
    },
    {
      "cell_type": "markdown",
      "metadata": {
        "nteract": {
          "transient": {
            "deleting": false
          }
        }
      },
      "source": [
        "### Transformations"
      ]
    },
    {
      "cell_type": "code",
      "execution_count": 83,
      "outputs": [],
      "metadata": {
        "jupyter": {
          "source_hidden": false,
          "outputs_hidden": false
        },
        "nteract": {
          "transient": {
            "deleting": false
          }
        }
      },
      "source": [
        "# Drop ambiguous columns\r\n",
        "player_df = player_df.withColumnRenamed('player_id', 'p_player_id')\r\n",
        "team_df = team_df.withColumnRenamed('team_id', 't_team_id')\r\n",
        "\r\n",
        "\r\n",
        "stat_joined_df = stat_df.join(player_df, (stat_df.player_id == player_df.p_player_id) & (player_df.is_active == True)) \\\r\n",
        "    .join(team_df, (stat_df.team_id == team_df.t_team_id) & (team_df.is_active == True))"
      ]
    },
    {
      "cell_type": "code",
      "execution_count": 84,
      "outputs": [],
      "metadata": {
        "jupyter": {
          "source_hidden": false,
          "outputs_hidden": false
        },
        "nteract": {
          "transient": {
            "deleting": false
          }
        }
      },
      "source": [
        "from pyspark.sql.functions import lit\r\n",
        "\r\n",
        "# Replaces dim ids with their surrogate keys\r\n",
        "stat_final_df = stat_joined_df.select('stat_id', 'game_id', 'team_key', 'player_key',\r\n",
        "     'ast', 'blk', 'dreb', 'fg3_pct', 'fg3a', 'fg3m', 'fg_pct', 'fga', 'fgm', 'ft_pct',\r\n",
        "     'fta', 'ftm', 'min', 'oreb', 'pf', 'pts', 'reb', 'stl', 'turnover') \\\r\n",
        "     .withColumn('season', lit(season)) \\\r\n",
        "     .distinct()"
      ]
    },
    {
      "cell_type": "code",
      "execution_count": 85,
      "outputs": [],
      "metadata": {
        "jupyter": {
          "source_hidden": false,
          "outputs_hidden": false
        },
        "nteract": {
          "transient": {
            "deleting": false
          }
        }
      },
      "source": [
        "from pyspark.sql.functions import col, when\r\n",
        "\r\n",
        "# Handle NULL values\r\n",
        "stat_final_df = stat_final_df \\\r\n",
        "    .withColumn('ast', when(col('ast').isNull(), 0).otherwise(col('ast'))) \\\r\n",
        "    .withColumn('blk', when(col('blk').isNull(), 0).otherwise(col('blk'))) \\\r\n",
        "    .withColumn('dreb', when(col('dreb').isNull(), 0).otherwise(col('dreb'))) \\\r\n",
        "    .withColumn('fg3_pct', when(col('fg3_pct').isNull(), 0.0).otherwise(col('fg3_pct'))) \\\r\n",
        "    .withColumn('fg3a', when(col('fg3a').isNull(), 0).otherwise(col('fg3a'))) \\\r\n",
        "    .withColumn('fg3m', when(col('fg3m').isNull(), 0).otherwise(col('fg3m'))) \\\r\n",
        "    .withColumn('fg_pct', when(col('fg_pct').isNull(), 0.0).otherwise(col('fg_pct'))) \\\r\n",
        "    .withColumn('fga', when(col('fga').isNull(), 0).otherwise(col('fga'))) \\\r\n",
        "    .withColumn('fgm', when(col('fgm').isNull(), 0).otherwise(col('fgm'))) \\\r\n",
        "    .withColumn('ft_pct', when(col('ft_pct').isNull(), 0.0).otherwise(col('ft_pct'))) \\\r\n",
        "    .withColumn('fta', when(col('fta').isNull(), 0).otherwise(col('fta'))) \\\r\n",
        "    .withColumn('ftm', when(col('ftm').isNull(), 0).otherwise(col('ftm'))) \\\r\n",
        "    .withColumn('min', when(col('min').isNull(), '00:00').otherwise(col('min'))) \\\r\n",
        "    .withColumn('oreb', when(col('oreb').isNull(), 0).otherwise(col('oreb'))) \\\r\n",
        "    .withColumn('pf', when(col('pf').isNull(), 0).otherwise(col('pf'))) \\\r\n",
        "    .withColumn('pts', when(col('pts').isNull(), 0).otherwise(col('pts'))) \\\r\n",
        "    .withColumn('reb', when(col('reb').isNull(), 0).otherwise(col('reb'))) \\\r\n",
        "    .withColumn('stl', when(col('stl').isNull(), 0).otherwise(col('stl'))) \\\r\n",
        "    .withColumn('turnover', when(col('turnover').isNull(), 0).otherwise(col('turnover'))) \\\r\n",
        "    .withColumn('season', when(col('season').isNull(), 0).otherwise(col('season'))) "
      ]
    },
    {
      "cell_type": "markdown",
      "metadata": {
        "nteract": {
          "transient": {
            "deleting": false
          }
        }
      },
      "source": [
        "### Merge Data"
      ]
    },
    {
      "cell_type": "code",
      "execution_count": 86,
      "outputs": [],
      "metadata": {
        "jupyter": {
          "source_hidden": false,
          "outputs_hidden": false
        },
        "nteract": {
          "transient": {
            "deleting": false
          }
        }
      },
      "source": [
        "container = 'gold'\r\n",
        "database = 'prize_picks_gold'\r\n",
        "table = 'fact_stats'\r\n",
        "file_format = 'delta'\r\n",
        "partition_col = 'season'\r\n",
        "merge_condition = 'tgt.stat_id = src.stat_id'\r\n",
        "\r\n",
        "merge_data(stat_final_df, container, database, table, file_format, partition_col, merge_condition )"
      ]
    },
    {
      "cell_type": "code",
      "execution_count": null,
      "outputs": [],
      "metadata": {
        "jupyter": {
          "source_hidden": false,
          "outputs_hidden": false
        },
        "nteract": {
          "transient": {
            "deleting": false
          }
        },
        "microsoft": {
          "language": "sparksql"
        }
      },
      "source": [
        "%%sql\r\n",
        "DROP TABLE IF EXISTS prize_picks_silver.fact_stats;"
      ]
    },
    {
      "cell_type": "code",
      "execution_count": 87,
      "outputs": [],
      "metadata": {
        "jupyter": {
          "source_hidden": false,
          "outputs_hidden": false
        },
        "nteract": {
          "transient": {
            "deleting": false
          }
        }
      },
      "source": [
        "# spark.sql(f'SELECT COUNT(*) FROM prize_picks_gold.fact_stats').show()"
      ]
    }
  ]
}