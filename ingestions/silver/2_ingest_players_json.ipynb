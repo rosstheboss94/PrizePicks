{
  "nbformat": 4,
  "nbformat_minor": 2,
  "metadata": {
    "kernelspec": {
      "name": "synapse_pyspark",
      "display_name": "Synapse PySpark"
    },
    "language_info": {
      "name": "python"
    },
    "save_output": true,
    "synapse_widget": {
      "version": "0.1",
      "state": {}
    }
  },
  "cells": [
    {
      "cell_type": "markdown",
      "metadata": {
        "nteract": {
          "transient": {
            "deleting": false
          }
        }
      },
      "source": [
        "### **Ingest Players JSON**\r\n",
        "Process the player_file*.json files to a table in the silver container"
      ]
    },
    {
      "cell_type": "markdown",
      "metadata": {
        "nteract": {
          "transient": {
            "deleting": false
          }
        }
      },
      "source": [
        "### Configuration"
      ]
    },
    {
      "cell_type": "code",
      "execution_count": 1,
      "outputs": [],
      "metadata": {
        "jupyter": {
          "source_hidden": false,
          "outputs_hidden": false
        },
        "nteract": {
          "transient": {
            "deleting": false
          }
        },
        "collapsed": false
      },
      "source": [
        "%run /utils/general_functions"
      ]
    },
    {
      "cell_type": "code",
      "execution_count": 2,
      "outputs": [],
      "metadata": {
        "jupyter": {
          "source_hidden": false,
          "outputs_hidden": false
        },
        "nteract": {
          "transient": {
            "deleting": false
          }
        }
      },
      "source": [
        "create_mounts()"
      ]
    },
    {
      "cell_type": "code",
      "execution_count": null,
      "outputs": [],
      "metadata": {
        "jupyter": {
          "source_hidden": false,
          "outputs_hidden": false
        },
        "nteract": {
          "transient": {
            "deleting": false
          }
        }
      },
      "source": [
        "spark.conf.set('spark.sql.shuffle.partitions', 300)"
      ]
    },
    {
      "cell_type": "markdown",
      "metadata": {
        "nteract": {
          "transient": {
            "deleting": false
          }
        }
      },
      "source": [
        "### Define Schema"
      ]
    },
    {
      "cell_type": "code",
      "execution_count": 3,
      "outputs": [],
      "metadata": {
        "jupyter": {
          "source_hidden": false,
          "outputs_hidden": false
        },
        "nteract": {
          "transient": {
            "deleting": false
          }
        }
      },
      "source": [
        "from pyspark.sql.types import StructType, StructField, IntegerType, StringType, BooleanType, TimestampType\r\n",
        "\r\n",
        "player_schema = StructType([\r\n",
        "    StructField('id', IntegerType(), False),\r\n",
        "    StructField('first_name', StringType(), True),\r\n",
        "    StructField('last_name', StringType(), True),\r\n",
        "    StructField('position', StringType(), True),\r\n",
        "    StructField('height_feet', IntegerType(), True),\r\n",
        "    StructField('height_inches', IntegerType(), True),\r\n",
        "    StructField('weight_pounds', IntegerType(), True),\r\n",
        "])\r\n",
        "\r\n",
        "player_gold_schema = StructType([\r\n",
        "    StructField('id', IntegerType(), False),\r\n",
        "    StructField('first_name', StringType(), True),\r\n",
        "    StructField('last_name', StringType(), True),\r\n",
        "    StructField('position', StringType(), True),\r\n",
        "    StructField('height_feet', IntegerType(), True),\r\n",
        "    StructField('height_inches', IntegerType(), True),\r\n",
        "    StructField('weight_pounds', IntegerType(), True),\r\n",
        "    StructField('is_active', BooleanType(), True),\r\n",
        "    StructField('eff_start_date', TimestampType(), True),\r\n",
        "    StructField('eff_end_date', TimestampType(), True),\r\n",
        "    StructField('player_key', IntegerType(), True),\r\n",
        "])"
      ]
    },
    {
      "cell_type": "markdown",
      "metadata": {
        "nteract": {
          "transient": {
            "deleting": false
          }
        }
      },
      "source": [
        "### Read Player Files"
      ]
    },
    {
      "cell_type": "code",
      "execution_count": 23,
      "outputs": [],
      "metadata": {
        "jupyter": {
          "source_hidden": false,
          "outputs_hidden": false
        },
        "nteract": {
          "transient": {
            "deleting": false
          }
        },
        "collapsed": false
      },
      "source": [
        "job_id = mssparkutils.env.getJobId()\r\n",
        "\r\n",
        "# Players in gold container\r\n",
        "players_gold_df = None\r\n",
        "\r\n",
        "# Players in bronze container\r\n",
        "players_df = spark.read.json(f'synfs:/{job_id}/mnt/bronze/players/*.json', player_schema)\r\n",
        "\r\n",
        "for table in spark.catalog.listTables('prize_picks_gold'):\r\n",
        "    if table.name == 'dim_player':\r\n",
        "        players_gold_df = spark.read.format('delta').load(f'synfs:/{job_id}/mnt/gold/dim_player')\r\n",
        "    else:\r\n",
        "        players_gold_df = spark.createDataFrame([], player_gold_schema)\r\n",
        "\r\n",
        "# New Players\r\n",
        "players_diff_df = players_df.exceptAll(players_gold_df.drop('is_active').drop('eff_start_date').drop('eff_end_date').drop('player_key'))"
      ]
    },
    {
      "cell_type": "markdown",
      "metadata": {
        "nteract": {
          "transient": {
            "deleting": false
          }
        }
      },
      "source": [
        "### Transformations"
      ]
    },
    {
      "cell_type": "markdown",
      "metadata": {
        "nteract": {
          "transient": {
            "deleting": false
          }
        }
      },
      "source": [
        "Get Max player_key From Gold Container"
      ]
    },
    {
      "cell_type": "code",
      "execution_count": 24,
      "outputs": [],
      "metadata": {
        "jupyter": {
          "source_hidden": false,
          "outputs_hidden": false
        },
        "nteract": {
          "transient": {
            "deleting": false
          }
        }
      },
      "source": [
        "from pyspark.sql.functions import max\r\n",
        "\r\n",
        "max_value = None\r\n",
        "\r\n",
        "if players_gold_df.count() > 0:\r\n",
        "    max_value_df = players_gold_df.agg(max(players_gold_df.player_key))\r\n",
        "    max_value = max_value_df.collect()[0][0]\r\n",
        "\r\n",
        "max_player_key = max_value if max_value is not None else 0"
      ]
    },
    {
      "cell_type": "markdown",
      "metadata": {
        "nteract": {
          "transient": {
            "deleting": false
          }
        }
      },
      "source": [
        "Add Date and key attributes"
      ]
    },
    {
      "cell_type": "code",
      "execution_count": 25,
      "outputs": [],
      "metadata": {
        "jupyter": {
          "source_hidden": false,
          "outputs_hidden": false
        },
        "nteract": {
          "transient": {
            "deleting": false
          }
        }
      },
      "source": [
        "from pyspark.sql.functions import lit, row_number, current_timestamp\r\n",
        "from pyspark.sql import Window\r\n",
        "\r\n",
        "players_diff_updated_df = None\r\n",
        "spec = Window.orderBy(players_diff_df.id.asc())\r\n",
        "\r\n",
        "players_diff_updated_df = players_diff_df \\\r\n",
        "    .withColumn('is_active', lit(True)) \\\r\n",
        "    .withColumn('eff_start_date', current_timestamp()) \\\r\n",
        "    .withColumn('eff_end_date', lit('1900-01-01 00:00:00.000').cast('timestamp')) \\\r\n",
        "    .withColumn('player_key', row_number().over(spec) + max_player_key)"
      ]
    },
    {
      "cell_type": "code",
      "execution_count": 26,
      "outputs": [],
      "metadata": {
        "jupyter": {
          "source_hidden": false,
          "outputs_hidden": false
        },
        "nteract": {
          "transient": {
            "deleting": false
          }
        }
      },
      "source": [
        "players_gold_df = players_gold_df.withColumnRenamed('player_id', 'id')"
      ]
    },
    {
      "cell_type": "code",
      "execution_count": 27,
      "outputs": [],
      "metadata": {
        "jupyter": {
          "source_hidden": false,
          "outputs_hidden": false
        },
        "nteract": {
          "transient": {
            "deleting": false
          }
        }
      },
      "source": [
        "combined_players_df = players_gold_df.unionByName(players_diff_updated_df)"
      ]
    },
    {
      "cell_type": "code",
      "execution_count": 36,
      "outputs": [],
      "metadata": {
        "jupyter": {
          "source_hidden": false,
          "outputs_hidden": false
        },
        "nteract": {
          "transient": {
            "deleting": false
          }
        }
      },
      "source": [
        "max_date_df = combined_players_df.groupBy(combined_players_df.id.alias('groupby_id')) \\\r\n",
        "    .agg(max(combined_players_df.eff_start_date).alias('max_date'))"
      ]
    },
    {
      "cell_type": "markdown",
      "metadata": {
        "nteract": {
          "transient": {
            "deleting": false
          }
        }
      },
      "source": [
        "Mark Rows With A Dimension Change"
      ]
    },
    {
      "cell_type": "code",
      "execution_count": 35,
      "outputs": [],
      "metadata": {
        "jupyter": {
          "source_hidden": false,
          "outputs_hidden": false
        },
        "nteract": {
          "transient": {
            "deleting": false
          }
        }
      },
      "source": [
        "\r\n",
        "players_scd_df = combined_players_df.join(max_date_df, (combined_players_df.id == max_date_df.groupby_id) & (combined_players_df.eff_start_date == max_date_df.max_date), 'left') \\\r\n",
        "    .drop(max_date_df.groupby_id)"
      ]
    },
    {
      "cell_type": "markdown",
      "metadata": {
        "nteract": {
          "transient": {
            "deleting": false
          }
        }
      },
      "source": [
        "Update Dimensions"
      ]
    },
    {
      "cell_type": "code",
      "execution_count": 13,
      "outputs": [],
      "metadata": {
        "jupyter": {
          "source_hidden": false,
          "outputs_hidden": false
        },
        "nteract": {
          "transient": {
            "deleting": false
          }
        }
      },
      "source": [
        "from pyspark.sql.functions import when, col \r\n",
        "\r\n",
        "players_final_df = players_scd_df.withColumnRenamed('id', 'player_id') \\\r\n",
        "    .withColumn('is_active', when(col('max_date').isNull(), lit(False)).otherwise(col('is_active'))) \\\r\n",
        "    .withColumn('eff_end_date', when(col('max_date').isNull(), current_timestamp()).otherwise(col('eff_end_date'))) \\\r\n",
        "    .drop('max_date')"
      ]
    },
    {
      "cell_type": "markdown",
      "metadata": {
        "nteract": {
          "transient": {
            "deleting": false
          }
        }
      },
      "source": [
        "### Write file as table"
      ]
    },
    {
      "cell_type": "code",
      "execution_count": null,
      "outputs": [],
      "metadata": {
        "jupyter": {
          "source_hidden": false,
          "outputs_hidden": false
        },
        "nteract": {
          "transient": {
            "deleting": false
          }
        },
        "microsoft": {
          "language": "sparksql"
        }
      },
      "source": [
        "%%sql\r\n",
        "DROP TABLE IF EXISTS prize_picks_silver.dim_player;"
      ]
    },
    {
      "cell_type": "code",
      "execution_count": 55,
      "outputs": [],
      "metadata": {
        "jupyter": {
          "source_hidden": false,
          "outputs_hidden": false
        },
        "nteract": {
          "transient": {
            "deleting": false
          }
        }
      },
      "source": [
        "container = 'silver'\r\n",
        "database = 'prize_picks_silver'\r\n",
        "table = 'dim_player'\r\n",
        "file_format = 'delta'\r\n",
        "merge_condition = 'tgt.player_key == src.player_key'\r\n",
        "\r\n",
        "merge_data(players_final_df, container, database, table, file_format, merge_condition=merge_condition)"
      ]
    }
  ]
}