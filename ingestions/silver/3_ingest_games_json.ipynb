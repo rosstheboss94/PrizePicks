{
  "nbformat": 4,
  "nbformat_minor": 2,
  "metadata": {
    "kernelspec": {
      "name": "synapse_pyspark",
      "display_name": "Synapse PySpark"
    },
    "language_info": {
      "name": "python"
    },
    "save_output": true,
    "synapse_widget": {
      "version": "0.1",
      "state": {}
    }
  },
  "cells": [
    {
      "cell_type": "markdown",
      "metadata": {
        "nteract": {
          "transient": {
            "deleting": false
          }
        }
      },
      "source": [
        "### **Ingest Games JSON**\r\n",
        "Process the game_file*.json files to a table in the silver container"
      ]
    },
    {
      "cell_type": "markdown",
      "metadata": {
        "nteract": {
          "transient": {
            "deleting": false
          }
        }
      },
      "source": [
        "### Parameters"
      ]
    },
    {
      "cell_type": "code",
      "execution_count": 9,
      "outputs": [],
      "metadata": {
        "jupyter": {
          "source_hidden": false,
          "outputs_hidden": false
        },
        "nteract": {
          "transient": {
            "deleting": false
          }
        },
        "tags": [
          "parameters"
        ]
      },
      "source": [
        "season = 2016"
      ]
    },
    {
      "cell_type": "markdown",
      "metadata": {
        "nteract": {
          "transient": {
            "deleting": false
          }
        }
      },
      "source": [
        "### Configuration"
      ]
    },
    {
      "cell_type": "code",
      "execution_count": 10,
      "outputs": [],
      "metadata": {
        "jupyter": {
          "source_hidden": false,
          "outputs_hidden": false
        },
        "nteract": {
          "transient": {
            "deleting": false
          }
        },
        "collapsed": false
      },
      "source": [
        "%run /utils/general_functions"
      ]
    },
    {
      "cell_type": "code",
      "execution_count": 11,
      "outputs": [],
      "metadata": {
        "jupyter": {
          "source_hidden": false,
          "outputs_hidden": false
        },
        "nteract": {
          "transient": {
            "deleting": false
          }
        }
      },
      "source": [
        "create_mounts()"
      ]
    },
    {
      "cell_type": "markdown",
      "metadata": {
        "nteract": {
          "transient": {
            "deleting": false
          }
        }
      },
      "source": [
        "### Define Schema"
      ]
    },
    {
      "cell_type": "code",
      "execution_count": 12,
      "outputs": [],
      "metadata": {
        "jupyter": {
          "source_hidden": false,
          "outputs_hidden": false
        },
        "nteract": {
          "transient": {
            "deleting": false
          }
        }
      },
      "source": [
        "from pyspark.sql.types import StructType, StructField, IntegerType, StringType, BooleanType, FloatType, TimestampType\r\n",
        "\r\n",
        "team_schema = StructType([\r\n",
        "    StructField('id', IntegerType(), False),\r\n",
        "    StructField('abbreviation', StringType(), True),\r\n",
        "    StructField('city', StringType(), True),\r\n",
        "    StructField('conference', StringType(), True),\r\n",
        "    StructField('division', StringType(), True),\r\n",
        "    StructField('full_name', StringType(), True),\r\n",
        "    StructField('name', StringType(), True),\r\n",
        "])\r\n",
        "\r\n",
        "game_schema = StructType([\r\n",
        "    StructField('id', IntegerType(), False),\r\n",
        "    StructField('date', TimestampType(), True),\r\n",
        "    StructField('home_team_score', IntegerType(), True),\r\n",
        "    StructField('visitor_team_score', IntegerType(), True),\r\n",
        "    StructField('season', IntegerType(), True),\r\n",
        "    StructField('period', IntegerType(), True),\r\n",
        "    StructField('status', StringType(), True),\r\n",
        "    StructField('time', StringType(), True),\r\n",
        "    StructField('postseason', BooleanType(), True),\r\n",
        "    StructField('home_team', team_schema),\r\n",
        "    StructField('visitor_team', team_schema)\r\n",
        "])\r\n",
        "\r\n",
        "\r\n",
        ""
      ]
    },
    {
      "cell_type": "markdown",
      "metadata": {
        "nteract": {
          "transient": {
            "deleting": false
          }
        }
      },
      "source": [
        "### Read Game Files"
      ]
    },
    {
      "cell_type": "code",
      "execution_count": 13,
      "outputs": [],
      "metadata": {
        "jupyter": {
          "source_hidden": false,
          "outputs_hidden": false
        },
        "nteract": {
          "transient": {
            "deleting": false
          }
        },
        "collapsed": false
      },
      "source": [
        "job_id = mssparkutils.env.getJobId()\r\n",
        "\r\n",
        "game_df = spark.read.json(f'synfs:/{job_id}/mnt/bronze/games/season={season}/team_id=*/*.json', game_schema)"
      ]
    },
    {
      "cell_type": "markdown",
      "metadata": {
        "nteract": {
          "transient": {
            "deleting": false
          }
        }
      },
      "source": [
        "### Transformations"
      ]
    },
    {
      "cell_type": "code",
      "execution_count": 14,
      "outputs": [],
      "metadata": {
        "jupyter": {
          "source_hidden": false,
          "outputs_hidden": false
        },
        "nteract": {
          "transient": {
            "deleting": false
          }
        }
      },
      "source": [
        "from pyspark.sql.functions import col\r\n",
        "\r\n",
        "game_df = game_df.withColumnRenamed('id', 'game_id') \\\r\n",
        "    .withColumn('home_team_id', col('home_team.id')) \\\r\n",
        "    .withColumn('visitor_team_id', col('visitor_team.id')) \\\r\n",
        "    .drop(col('home_team')) \\\r\n",
        "    .drop(col('visitor_team')) \\\r\n",
        "    .drop(col('status')) \\\r\n",
        "    .drop(col('time')) "
      ]
    },
    {
      "cell_type": "code",
      "execution_count": null,
      "outputs": [],
      "metadata": {
        "jupyter": {
          "source_hidden": false,
          "outputs_hidden": false
        },
        "nteract": {
          "transient": {
            "deleting": false
          }
        }
      },
      "source": [
        "game_final_df = game_df.distinct()"
      ]
    },
    {
      "cell_type": "markdown",
      "metadata": {
        "nteract": {
          "transient": {
            "deleting": false
          }
        }
      },
      "source": [
        "### Write file as table"
      ]
    },
    {
      "cell_type": "code",
      "execution_count": null,
      "outputs": [],
      "metadata": {
        "jupyter": {
          "source_hidden": false,
          "outputs_hidden": false
        },
        "nteract": {
          "transient": {
            "deleting": false
          }
        },
        "microsoft": {
          "language": "sparksql"
        }
      },
      "source": [
        "%%sql\r\n",
        "DROP TABLE IF EXISTS prize_picks_silver.fact_games;"
      ]
    },
    {
      "cell_type": "code",
      "execution_count": null,
      "outputs": [],
      "metadata": {
        "jupyter": {
          "source_hidden": false,
          "outputs_hidden": false
        },
        "nteract": {
          "transient": {
            "deleting": false
          }
        }
      },
      "source": [
        "container = 'silver'\r\n",
        "database = 'prize_picks_silver'\r\n",
        "table = 'fact_games'\r\n",
        "file_format = 'delta'\r\n",
        "partition_col = 'season'\r\n",
        "merge_condition = 'tgt.game_id = src.game_id'\r\n",
        "\r\n",
        "merge_data(game_final_df, container, database, table, file_format, partition_col, merge_condition)"
      ]
    }
  ]
}