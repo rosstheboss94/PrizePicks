{
  "cells": [
    {
      "cell_type": "markdown",
      "source": [
        "### **Ingest Games JSON**\r\n",
        "Process the game_file*.json files to a table in the silver container"
      ],
      "metadata": {
        "nteract": {
          "transient": {
            "deleting": false
          }
        }
      }
    },
    {
      "cell_type": "markdown",
      "source": [
        "### Parameters"
      ],
      "metadata": {
        "nteract": {
          "transient": {
            "deleting": false
          }
        }
      }
    },
    {
      "cell_type": "code",
      "source": [
        "season = 2016"
      ],
      "outputs": [],
      "execution_count": 9,
      "metadata": {
        "jupyter": {
          "source_hidden": false,
          "outputs_hidden": false
        },
        "nteract": {
          "transient": {
            "deleting": false
          }
        },
        "tags": [
          "parameters"
        ]
      }
    },
    {
      "cell_type": "markdown",
      "source": [
        "### Configuration"
      ],
      "metadata": {
        "nteract": {
          "transient": {
            "deleting": false
          }
        }
      }
    },
    {
      "cell_type": "code",
      "source": [
        "%run /utils/general_functions"
      ],
      "outputs": [],
      "execution_count": 10,
      "metadata": {
        "jupyter": {
          "source_hidden": false,
          "outputs_hidden": false
        },
        "nteract": {
          "transient": {
            "deleting": false
          }
        },
        "collapsed": false
      }
    },
    {
      "cell_type": "code",
      "source": [
        "create_mounts()"
      ],
      "outputs": [],
      "execution_count": 11,
      "metadata": {
        "jupyter": {
          "source_hidden": false,
          "outputs_hidden": false
        },
        "nteract": {
          "transient": {
            "deleting": false
          }
        }
      }
    },
    {
      "cell_type": "markdown",
      "source": [
        "### Define Schema"
      ],
      "metadata": {
        "nteract": {
          "transient": {
            "deleting": false
          }
        }
      }
    },
    {
      "cell_type": "code",
      "source": [
        "from pyspark.sql.types import StructType, StructField, IntegerType, StringType, BooleanType, FloatType, TimestampType\r\n",
        "\r\n",
        "team_schema = StructType([\r\n",
        "    StructField('id', IntegerType(), False),\r\n",
        "    StructField('abbreviation', StringType(), True),\r\n",
        "    StructField('city', StringType(), True),\r\n",
        "    StructField('conference', StringType(), True),\r\n",
        "    StructField('division', StringType(), True),\r\n",
        "    StructField('full_name', StringType(), True),\r\n",
        "    StructField('name', StringType(), True),\r\n",
        "])\r\n",
        "\r\n",
        "game_schema = StructType([\r\n",
        "    StructField('id', IntegerType(), False),\r\n",
        "    StructField('date', TimestampType(), True),\r\n",
        "    StructField('home_team_score', IntegerType(), True),\r\n",
        "    StructField('visitor_team_score', IntegerType(), True),\r\n",
        "    StructField('season', IntegerType(), True),\r\n",
        "    StructField('period', IntegerType(), True),\r\n",
        "    StructField('status', StringType(), True),\r\n",
        "    StructField('time', StringType(), True),\r\n",
        "    StructField('postseason', BooleanType(), True),\r\n",
        "    StructField('home_team', team_schema),\r\n",
        "    StructField('visitor_team', team_schema)\r\n",
        "])\r\n",
        "\r\n",
        "\r\n"
      ],
      "outputs": [],
      "execution_count": 12,
      "metadata": {
        "jupyter": {
          "source_hidden": false,
          "outputs_hidden": false
        },
        "nteract": {
          "transient": {
            "deleting": false
          }
        }
      }
    },
    {
      "cell_type": "markdown",
      "source": [
        "### Read Game Files"
      ],
      "metadata": {
        "nteract": {
          "transient": {
            "deleting": false
          }
        }
      }
    },
    {
      "cell_type": "code",
      "source": [
        "job_id = mssparkutils.env.getJobId()\r\n",
        "\r\n",
        "game_df = spark.read.json(f'synfs:/{job_id}/mnt/bronze/games/season={season}/team_id=*/*.json', game_schema)"
      ],
      "outputs": [],
      "execution_count": 13,
      "metadata": {
        "jupyter": {
          "source_hidden": false,
          "outputs_hidden": false
        },
        "nteract": {
          "transient": {
            "deleting": false
          }
        },
        "collapsed": false
      }
    },
    {
      "cell_type": "markdown",
      "source": [
        "### Transformations"
      ],
      "metadata": {
        "nteract": {
          "transient": {
            "deleting": false
          }
        }
      }
    },
    {
      "cell_type": "code",
      "source": [
        "from pyspark.sql.functions import col\r\n",
        "\r\n",
        "game_df = game_df.withColumnRenamed('id', 'game_id') \\\r\n",
        "    .withColumn('home_team_id', col('home_team.id')) \\\r\n",
        "    .withColumn('visitor_team_id', col('visitor_team.id')) \\\r\n",
        "    .drop(col('home_team')) \\\r\n",
        "    .drop(col('visitor_team')) \\\r\n",
        "    .drop(col('status')) \\\r\n",
        "    .drop(col('time')) "
      ],
      "outputs": [],
      "execution_count": 14,
      "metadata": {
        "jupyter": {
          "source_hidden": false,
          "outputs_hidden": false
        },
        "nteract": {
          "transient": {
            "deleting": false
          }
        }
      }
    },
    {
      "cell_type": "code",
      "source": [
        "game_final_df = game_df.distinct()"
      ],
      "outputs": [],
      "execution_count": null,
      "metadata": {
        "jupyter": {
          "source_hidden": false,
          "outputs_hidden": false
        },
        "nteract": {
          "transient": {
            "deleting": false
          }
        }
      }
    },
    {
      "cell_type": "markdown",
      "source": [
        "### Write file as table"
      ],
      "metadata": {
        "nteract": {
          "transient": {
            "deleting": false
          }
        }
      }
    },
    {
      "cell_type": "code",
      "source": [
        "%%sql\r\n",
        "DROP TABLE IF EXISTS prize_picks_silver.dim_games;"
      ],
      "outputs": [],
      "execution_count": null,
      "metadata": {
        "jupyter": {
          "source_hidden": false,
          "outputs_hidden": false
        },
        "nteract": {
          "transient": {
            "deleting": false
          }
        },
        "microsoft": {
          "language": "sparksql"
        }
      }
    },
    {
      "cell_type": "code",
      "source": [
        "container = 'silver'\r\n",
        "database = 'prize_picks_silver'\r\n",
        "table = 'dim_games'\r\n",
        "file_format = 'delta'\r\n",
        "partition_col = 'season'\r\n",
        "merge_condition = 'tgt.game_id = src.game_id'\r\n",
        "\r\n",
        "merge_data(game_final_df, container, database, table, file_format, partition_col, merge_condition)"
      ],
      "outputs": [],
      "execution_count": null,
      "metadata": {
        "jupyter": {
          "source_hidden": false,
          "outputs_hidden": false
        },
        "nteract": {
          "transient": {
            "deleting": false
          }
        }
      }
    }
  ],
  "metadata": {
    "kernelspec": {
      "name": "synapse_pyspark",
      "display_name": "Synapse PySpark"
    },
    "language_info": {
      "name": "python"
    },
    "save_output": true,
    "synapse_widget": {
      "version": "0.1",
      "state": {}
    }
  },
  "nbformat": 4,
  "nbformat_minor": 2
}