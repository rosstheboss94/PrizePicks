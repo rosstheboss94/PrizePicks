{
  "nbformat": 4,
  "nbformat_minor": 2,
  "metadata": {
    "kernelspec": {
      "name": "synapse_pyspark",
      "display_name": "Synapse PySpark"
    },
    "language_info": {
      "name": "python"
    },
    "save_output": true,
    "synapse_widget": {
      "version": "0.1",
      "state": {}
    }
  },
  "cells": [
    {
      "cell_type": "markdown",
      "metadata": {
        "nteract": {
          "transient": {
            "deleting": false
          }
        }
      },
      "source": [
        "### **Ingest Stats JSON**\r\n",
        "Process the stat_file*.json files to a table in the silver container"
      ]
    },
    {
      "cell_type": "markdown",
      "metadata": {
        "nteract": {
          "transient": {
            "deleting": false
          }
        }
      },
      "source": [
        "### Parameters"
      ]
    },
    {
      "cell_type": "code",
      "execution_count": 147,
      "outputs": [],
      "metadata": {
        "jupyter": {
          "source_hidden": false,
          "outputs_hidden": false
        },
        "nteract": {
          "transient": {
            "deleting": false
          }
        },
        "tags": [
          "parameters"
        ]
      },
      "source": [
        "season = 2021"
      ]
    },
    {
      "cell_type": "markdown",
      "metadata": {
        "nteract": {
          "transient": {
            "deleting": false
          }
        }
      },
      "source": [
        "### Configuration"
      ]
    },
    {
      "cell_type": "code",
      "execution_count": 148,
      "outputs": [],
      "metadata": {
        "jupyter": {
          "source_hidden": false,
          "outputs_hidden": false
        },
        "nteract": {
          "transient": {
            "deleting": false
          }
        },
        "collapsed": false
      },
      "source": [
        "%run /utils/general_functions"
      ]
    },
    {
      "cell_type": "code",
      "execution_count": 149,
      "outputs": [],
      "metadata": {
        "jupyter": {
          "source_hidden": false,
          "outputs_hidden": false
        },
        "nteract": {
          "transient": {
            "deleting": false
          }
        }
      },
      "source": [
        "create_mounts()"
      ]
    },
    {
      "cell_type": "markdown",
      "metadata": {
        "nteract": {
          "transient": {
            "deleting": false
          }
        }
      },
      "source": [
        "### Define Schema"
      ]
    },
    {
      "cell_type": "code",
      "execution_count": 150,
      "outputs": [],
      "metadata": {
        "jupyter": {
          "source_hidden": false,
          "outputs_hidden": false
        },
        "nteract": {
          "transient": {
            "deleting": false
          }
        }
      },
      "source": [
        "from pyspark.sql.types import StructType, StructField, IntegerType, StringType, BooleanType, FloatType, TimestampType\r\n",
        "\r\n",
        "game_schema = StructType([\r\n",
        "    StructField('id', IntegerType(), False),\r\n",
        "    StructField('date', TimestampType(), True),\r\n",
        "    StructField('home_team_id', IntegerType(), False),\r\n",
        "    StructField('home_team_score', IntegerType(), True),\r\n",
        "    StructField('season', IntegerType(), True),\r\n",
        "    StructField('visitor_team_id', IntegerType(), False),\r\n",
        "    StructField('visitor_team_score', IntegerType(), True),\r\n",
        "])\r\n",
        "\r\n",
        "team_schema = StructType([\r\n",
        "    StructField('id', IntegerType(), False),\r\n",
        "    StructField('abbreviation', StringType(), True),\r\n",
        "    StructField('city', StringType(), True),\r\n",
        "    StructField('conference', StringType(), True),\r\n",
        "    StructField('division', StringType(), True),\r\n",
        "    StructField('full_name', StringType(), True),\r\n",
        "    StructField('name', StringType(), True),\r\n",
        "])\r\n",
        "\r\n",
        "player_schema = StructType([\r\n",
        "    StructField('id', IntegerType(), False),\r\n",
        "    StructField('first_name', StringType(), True),\r\n",
        "    StructField('last_name', StringType(), True),\r\n",
        "    StructField('position', StringType(), True),\r\n",
        "    StructField('team_id', IntegerType(), True)\r\n",
        "])"
      ]
    },
    {
      "cell_type": "code",
      "execution_count": 151,
      "outputs": [],
      "metadata": {
        "jupyter": {
          "source_hidden": false,
          "outputs_hidden": false
        },
        "nteract": {
          "transient": {
            "deleting": false
          }
        }
      },
      "source": [
        "stat_schema = StructType([\r\n",
        "    StructField('id', IntegerType(), False),\r\n",
        "    StructField('ast', IntegerType(), True),\r\n",
        "    StructField('blk', IntegerType(), True),\r\n",
        "    StructField('dreb', IntegerType(), True),\r\n",
        "    StructField('fg3_pct', FloatType(), True),\r\n",
        "    StructField('fg3a', IntegerType(), True),\r\n",
        "    StructField('fg3m', IntegerType(), True),\r\n",
        "    StructField('fg_pct', FloatType(), True),\r\n",
        "    StructField('fga', IntegerType(), True),\r\n",
        "    StructField('fgm', IntegerType(), True),\r\n",
        "    StructField('ft_pct', FloatType(), True),\r\n",
        "    StructField('fta', IntegerType(), True),\r\n",
        "    StructField('ftm', IntegerType(), True),\r\n",
        "    StructField('game', game_schema),\r\n",
        "    StructField('min', StringType(), True),\r\n",
        "    StructField('oreb', IntegerType(), True),\r\n",
        "    StructField('pf', IntegerType(), True),\r\n",
        "    StructField('player', player_schema),\r\n",
        "    StructField('pts', IntegerType(), True),\r\n",
        "    StructField('reb', IntegerType(), True),\r\n",
        "    StructField('stl', IntegerType(), True),\r\n",
        "    StructField('team', team_schema),\r\n",
        "    StructField('turnover', IntegerType(), True),\r\n",
        "])"
      ]
    },
    {
      "cell_type": "markdown",
      "metadata": {
        "nteract": {
          "transient": {
            "deleting": false
          }
        }
      },
      "source": [
        "### Read Stat Files"
      ]
    },
    {
      "cell_type": "code",
      "execution_count": 152,
      "outputs": [],
      "metadata": {
        "jupyter": {
          "source_hidden": false,
          "outputs_hidden": false
        },
        "nteract": {
          "transient": {
            "deleting": false
          }
        },
        "collapsed": false
      },
      "source": [
        "job_id = mssparkutils.env.getJobId()\r\n",
        "\r\n",
        "stat_df = spark.read.json(f'synfs:/{job_id}/mnt/bronze/stats/season={season}/stat_file*.json', stat_schema)"
      ]
    },
    {
      "cell_type": "markdown",
      "metadata": {
        "nteract": {
          "transient": {
            "deleting": false
          }
        }
      },
      "source": [
        "### Transformations"
      ]
    },
    {
      "cell_type": "code",
      "execution_count": 153,
      "outputs": [],
      "metadata": {
        "jupyter": {
          "source_hidden": false,
          "outputs_hidden": false
        },
        "nteract": {
          "transient": {
            "deleting": false
          }
        }
      },
      "source": [
        "from pyspark.sql.functions import col, lit, current_timestamp\r\n",
        "\r\n",
        "stat_df = stat_df.withColumnRenamed('id', 'stat_id') "
      ]
    },
    {
      "cell_type": "code",
      "execution_count": 154,
      "outputs": [],
      "metadata": {
        "jupyter": {
          "source_hidden": false,
          "outputs_hidden": false
        },
        "nteract": {
          "transient": {
            "deleting": false
          }
        }
      },
      "source": [
        "stat_df = stat_df.withColumn('game_id', col('game.id')) \\\r\n",
        "    .withColumn('player_id', col('player.id')) \\\r\n",
        "    .withColumn('team_id', col('team.id')) \\\r\n",
        "    .withColumn('season', lit(season))"
      ]
    },
    {
      "cell_type": "code",
      "execution_count": 155,
      "outputs": [],
      "metadata": {
        "jupyter": {
          "source_hidden": false,
          "outputs_hidden": false
        },
        "nteract": {
          "transient": {
            "deleting": false
          }
        }
      },
      "source": [
        "stat_df = stat_df.drop(col('game')) \\\r\n",
        "    .drop(col('player')) \\\r\n",
        "    .drop(col('team')) "
      ]
    },
    {
      "cell_type": "code",
      "execution_count": 156,
      "outputs": [],
      "metadata": {
        "jupyter": {
          "source_hidden": false,
          "outputs_hidden": false
        },
        "nteract": {
          "transient": {
            "deleting": false
          }
        }
      },
      "source": [
        "stat_final_df = stat_df.distinct()"
      ]
    },
    {
      "cell_type": "markdown",
      "metadata": {
        "nteract": {
          "transient": {
            "deleting": false
          }
        }
      },
      "source": [
        "### Write file as table"
      ]
    },
    {
      "cell_type": "code",
      "execution_count": null,
      "outputs": [],
      "metadata": {
        "jupyter": {
          "source_hidden": false,
          "outputs_hidden": false
        },
        "nteract": {
          "transient": {
            "deleting": false
          }
        },
        "microsoft": {
          "language": "sparksql"
        }
      },
      "source": [
        "%%sql\r\n",
        "DROP TABLE IF EXISTS prize_picks_silver.fact_stats;"
      ]
    },
    {
      "cell_type": "code",
      "execution_count": 157,
      "outputs": [],
      "metadata": {
        "jupyter": {
          "source_hidden": false,
          "outputs_hidden": false
        },
        "nteract": {
          "transient": {
            "deleting": false
          }
        }
      },
      "source": [
        "container = 'silver'\r\n",
        "database = 'prize_picks_silver'\r\n",
        "table = 'fact_stats'\r\n",
        "file_format = 'delta'\r\n",
        "partition_col = 'season'\r\n",
        "merge_condition = 'tgt.stat_id = src.stat_id'\r\n",
        "\r\n",
        "merge_data(stat_final_df, container, database, table, file_format, partition_col, merge_condition)"
      ]
    }
  ]
}
