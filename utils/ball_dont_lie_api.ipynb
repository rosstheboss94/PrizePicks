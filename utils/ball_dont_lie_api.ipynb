{
  "nbformat": 4,
  "nbformat_minor": 2,
  "cells": [
    {
      "cell_type": "markdown",
      "metadata": {
        "nteract": {
          "transient": {
            "deleting": false
          }
        }
      },
      "source": [
        "### **BallDontLie API Functions**"
      ]
    },
    {
      "cell_type": "markdown",
      "metadata": {
        "nteract": {
          "transient": {
            "deleting": false
          }
        }
      },
      "source": [
        "### Configuration"
      ]
    },
    {
      "cell_type": "code",
      "execution_count": null,
      "outputs": [],
      "metadata": {
        "jupyter": {
          "source_hidden": false,
          "outputs_hidden": false
        },
        "nteract": {
          "transient": {
            "deleting": false
          }
        }
      },
      "source": [
        "import requests\r\n",
        "import json"
      ]
    },
    {
      "cell_type": "markdown",
      "metadata": {
        "nteract": {
          "transient": {
            "deleting": false
          }
        }
      },
      "source": [
        "### Get Teams Data"
      ]
    },
    {
      "cell_type": "code",
      "execution_count": null,
      "outputs": [],
      "metadata": {
        "jupyter": {
          "source_hidden": false,
          "outputs_hidden": false
        },
        "nteract": {
          "transient": {
            "deleting": false
          }
        }
      },
      "source": [
        "def get_teams():\r\n",
        "    res = requests.get('https://www.balldontlie.io/api/v1/teams')\r\n",
        "\r\n",
        "    res_json = res.json()\r\n",
        "\r\n",
        "    return res_json"
      ]
    },
    {
      "cell_type": "markdown",
      "metadata": {
        "nteract": {
          "transient": {
            "deleting": false
          }
        }
      },
      "source": [
        "### Get Games Data"
      ]
    },
    {
      "cell_type": "code",
      "execution_count": null,
      "outputs": [],
      "metadata": {
        "jupyter": {
          "source_hidden": false,
          "outputs_hidden": false
        },
        "nteract": {
          "transient": {
            "deleting": false
          }
        }
      },
      "source": [
        "def get_games(season, team_id, page):\r\n",
        "\r\n",
        "    params = {\r\n",
        "    'seasons[]': season,\r\n",
        "    'team_ids[]': team_id,\r\n",
        "    'page': page,\r\n",
        "    'per_page': 100\r\n",
        "    }\r\n",
        "\r\n",
        "    res = requests.get('https://www.balldontlie.io/api/v1/games', params = params)\r\n",
        "\r\n",
        "    res_json = res.json()\r\n",
        "\r\n",
        "    return res_json"
      ]
    },
    {
      "cell_type": "markdown",
      "metadata": {
        "nteract": {
          "transient": {
            "deleting": false
          }
        }
      },
      "source": [
        "### Get Players Data"
      ]
    },
    {
      "cell_type": "code",
      "execution_count": null,
      "outputs": [],
      "metadata": {
        "jupyter": {
          "source_hidden": false,
          "outputs_hidden": false
        },
        "nteract": {
          "transient": {
            "deleting": false
          }
        }
      },
      "source": [
        "def get_players(page):\r\n",
        "\r\n",
        "    params = {\r\n",
        "    'page': page,\r\n",
        "    'per_page': 100\r\n",
        "    }\r\n",
        "\r\n",
        "    res = requests.get('https://www.balldontlie.io/api/v1/players', params = params)\r\n",
        "\r\n",
        "    res_json = res.json()\r\n",
        "\r\n",
        "    return res_json"
      ]
    },
    {
      "cell_type": "markdown",
      "metadata": {
        "nteract": {
          "transient": {
            "deleting": false
          }
        }
      },
      "source": [
        "### Get Stat Data"
      ]
    },
    {
      "cell_type": "code",
      "execution_count": null,
      "outputs": [],
      "metadata": {
        "jupyter": {
          "source_hidden": false,
          "outputs_hidden": false
        },
        "nteract": {
          "transient": {
            "deleting": false
          }
        }
      },
      "source": [
        "def get_stats(season, page):\r\n",
        "\r\n",
        "    params = {\r\n",
        "    'seasons[]': season,\r\n",
        "    'page': page,\r\n",
        "    'per_page': 100\r\n",
        "    }\r\n",
        "\r\n",
        "    res = requests.get('https://www.balldontlie.io/api/v1/stats', params = params)\r\n",
        "\r\n",
        "    res_json = res.json()\r\n",
        "\r\n",
        "    return res_json"
      ]
    }
  ],
  "metadata": {
    "save_output": true,
    "kernelspec": {
      "name": "synapse_pyspark",
      "display_name": "python"
    },
    "language_info": {
      "name": "python"
    },
    "synapse_widget": {
      "version": "0.1"
    }
  }
}